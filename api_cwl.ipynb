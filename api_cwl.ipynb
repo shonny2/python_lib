{
 "cells": [
  {
   "cell_type": "code",
   "execution_count": 3,
   "metadata": {},
   "outputs": [
    {
     "data": {
      "text/plain": [
       "'2.31.0'"
      ]
     },
     "execution_count": 3,
     "metadata": {},
     "output_type": "execute_result"
    }
   ],
   "source": [
    "import pandas as pd\n",
    "import requests\n",
    "import xml.etree.ElementTree as ET\n",
    "\n",
    "requests.__version__"
   ]
  },
  {
   "cell_type": "markdown",
   "metadata": {},
   "source": [
    "1. URL 가져오기"
   ]
  },
  {
   "cell_type": "code",
   "execution_count": 25,
   "metadata": {},
   "outputs": [
    {
     "name": "stdout",
     "output_type": "stream",
     "text": [
      "<?xml version=\"1.0\" encoding=\"utf-8\"?>\n",
      "<document>\n",
      "\t<condition>\n",
      "\t\t<item>\n",
      "\t\t\t<p_regday>2020-07-16</p_regday>\n",
      "\t\t\t<p_itemcategorycode>100</p_itemcategorycode>\n",
      "\t\t\t<p_itemcode>111</p_itemcode>\n",
      "\t\t\t<p_kindcode>02</p_kindcode>\n",
      "\t\t\t<p_productrankcode>07</p_productrankcode>\n",
      "\t\t\t<p_countycode>1101</p_countycode>\n",
      "\t\t\t<p_convert_kg_yn>Y</p_convert_kg_yn>\n",
      "\t\t\t<p_key></p_key>\n",
      "\t\t\t<p_id>4b1d834a-4dae-4cb8-a127-091e6ced94f4</p_id>\n",
      "\t\t\t<p_returntype>xml</p_returntype>\n",
      "\t\t</item>\n",
      "\t</condition>\n",
      "\t<data>\n",
      "\t\t<error_code>900</error_code>\n",
      "\t</data>\n",
      "</document>\n"
     ]
    }
   ],
   "source": [
    "# 친환경농산물 품목별가격정보('20.4~)\n",
    "\n",
    "\n",
    "url = 'http://www.kamis.or.kr/service/price/xml.do?action=EcoPriceList'\n",
    "params = {\n",
    "    ('p_cert_id', '4b1d834a-4dae-4cb8-a127-091e6ced94f4'),\n",
    "    ('p_cert_id', 4086),\n",
    "    ('p_returntype', 'xml'),\n",
    "    ('p_regday', '2020-07-16'),\n",
    "    ('p_itemcategorycode', 100),\n",
    "    ('p_kindcode', '02'),\n",
    "    ('p_productrankcode', '07'),\n",
    "    ('p_countrycode', 1101),\n",
    "    ('p_convert_kg_yn','Y')\n",
    "}\n",
    "\n",
    "response = requests.get(url, params)\n",
    "\n",
    "print(response.text)\n"
   ]
  },
  {
   "cell_type": "markdown",
   "metadata": {},
   "source": [
    "2. 데이터프레임에 넣기 "
   ]
  },
  {
   "cell_type": "code",
   "execution_count": 38,
   "metadata": {},
   "outputs": [
    {
     "data": {
      "text/html": [
       "<div>\n",
       "<style scoped>\n",
       "    .dataframe tbody tr th:only-of-type {\n",
       "        vertical-align: middle;\n",
       "    }\n",
       "\n",
       "    .dataframe tbody tr th {\n",
       "        vertical-align: top;\n",
       "    }\n",
       "\n",
       "    .dataframe thead th {\n",
       "        text-align: right;\n",
       "    }\n",
       "</style>\n",
       "<table border=\"1\" class=\"dataframe\">\n",
       "  <thead>\n",
       "    <tr style=\"text-align: right;\">\n",
       "      <th></th>\n",
       "      <th>seqnum</th>\n",
       "      <th>countryname</th>\n",
       "      <th>marketname</th>\n",
       "      <th>unit</th>\n",
       "      <th>regday</th>\n",
       "      <th>price</th>\n",
       "    </tr>\n",
       "  </thead>\n",
       "  <tbody>\n",
       "  </tbody>\n",
       "</table>\n",
       "</div>"
      ],
      "text/plain": [
       "Empty DataFrame\n",
       "Columns: [seqnum, countryname, marketname, unit, regday, price]\n",
       "Index: []"
      ]
     },
     "execution_count": 38,
     "metadata": {},
     "output_type": "execute_result"
    }
   ],
   "source": [
    "root = ET.fromstring(response.text)\n",
    "\n",
    "row_dic = {'seqnum' : [], 'countryname' : [], 'marketname' : [], 'unit' : [], 'regday' : [], 'price' : []}\n",
    "\n",
    "for i in root.findall('./data/item'):\n",
    "\n",
    "    for j in i:\n",
    "        row_dic[j.tag].append(j.text)\n",
    "\n",
    "df = pd.DataFrame(row_dic)\n",
    "df.head()"
   ]
  },
  {
   "cell_type": "markdown",
   "metadata": {},
   "source": [
    "3. 함수를 사용해서 데이터 가져오기"
   ]
  }
 ],
 "metadata": {
  "kernelspec": {
   "display_name": "Python 3",
   "language": "python",
   "name": "python3"
  },
  "language_info": {
   "codemirror_mode": {
    "name": "ipython",
    "version": 3
   },
   "file_extension": ".py",
   "mimetype": "text/x-python",
   "name": "python",
   "nbconvert_exporter": "python",
   "pygments_lexer": "ipython3",
   "version": "3.12.2"
  }
 },
 "nbformat": 4,
 "nbformat_minor": 2
}
